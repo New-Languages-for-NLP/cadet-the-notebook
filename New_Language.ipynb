{
 "cells": [
  {
   "cell_type": "markdown",
   "metadata": {},
   "source": [
    "To begin, let's import spaCy and the create_object script.  This includes as `create_object()` function that will generate a generic language object in the folder `new_lang/{language_name}`.  All of the object's files are contained there. "
   ]
  },
  {
   "cell_type": "code",
   "execution_count": 1,
   "metadata": {},
   "outputs": [
    {
     "data": {
      "text/plain": [
       "'3.0.5'"
      ]
     },
     "execution_count": 1,
     "metadata": {},
     "output_type": "execute_result"
    }
   ],
   "source": [
    "import spacy\n",
    "from util.create_object import create_object\n",
    "spacy.__version__\n",
    "\n"
   ]
  },
  {
   "cell_type": "code",
   "execution_count": 2,
   "metadata": {},
   "outputs": [
    {
     "data": {
      "text/plain": [
       "('meow', 'meow')"
      ]
     },
     "execution_count": 2,
     "metadata": {},
     "output_type": "execute_result"
    }
   ],
   "source": [
    "lang_name = 'Meow'\n",
    "lang_code ='meow'\n",
    "direction = 'ltr' #or 'rtl'\n",
    "has_case = True\n",
    "has_letters = True\n",
    "\n",
    "create_object(lang_name, lang_code, direction, has_case, has_letters)"
   ]
  },
  {
   "cell_type": "code",
   "execution_count": 3,
   "metadata": {},
   "outputs": [
    {
     "name": "stdout",
     "output_type": "stream",
     "text": [
      "base_config.cfg  lex_attrs.py\t setup.py\t      tokenizer_exceptions.py\r\n",
      "examples.py\t meow.egg-info\t stop_words.py\r\n",
      "__init__.py\t punctuation.py  syntax_iterators.py\r\n",
      "lemmatizer.py\t __pycache__\t tag_map.py\r\n"
     ]
    }
   ],
   "source": [
    "!ls ./new_lang\n"
   ]
  },
  {
   "cell_type": "markdown",
   "metadata": {},
   "source": [
    "To assess how the tokenizer defaults will work with your language, add example sentences to the [`examples.py`](./new_lang/examples.py) file.  "
   ]
  },
  {
   "cell_type": "code",
   "execution_count": 4,
   "metadata": {},
   "outputs": [
    {
     "data": {
      "text/html": [
       "<div><span style='border: 5px solid blue; margin:5px;'>this</span>&nbsp;<span style='border: 5px solid blue; margin:5px;'>is</span>&nbsp;<span style='border: 5px solid blue; margin:5px;'>sentence</span>&nbsp;</div><div><span style='border: 5px solid blue; margin:5px;'>this</span>&nbsp;<span style='border: 5px solid blue; margin:5px;'>is</span>&nbsp;<span style='border: 5px solid blue; margin:5px;'>more</span>&nbsp;<span style='border: 5px solid blue; margin:5px;'>sentence</span>&nbsp;</div><div><span style='border: 5px solid blue; margin:5px;'>with</span>&nbsp;<span style='border: 5px solid blue; margin:5px;'>much</span>&nbsp;<span style='border: 5px solid blue; margin:5px;'>more</span>&nbsp;<span style='border: 5px solid blue; margin:5px;'>word</span>&nbsp;</div>"
      ],
      "text/plain": [
       "<IPython.core.display.HTML object>"
      ]
     },
     "execution_count": 4,
     "metadata": {},
     "output_type": "execute_result"
    }
   ],
   "source": [
    "from IPython.core.display import HTML\n",
    "from util.tokenization import tokenization\n",
    "HTML(tokenization(lang_name))"
   ]
  },
  {
   "cell_type": "markdown",
   "metadata": {},
   "source": [
    "To adjust the tokenizer you can add unique exceptions or regular exceptions to the [tokenizer_exceptions.py](./new_lang/tokenizer_exceptions.py) file\n",
    "\n",
    "- To join two tokens, add an exception `{'BIG YIKES':[{ORTH: 'BIG YIKES'}]}`\n",
    "- To split a token in two, `{'Kummerspeck':[{ORTH:\"Kummer\"},{ORTH:\"speck\"}]}`\n",
    "\n",
    "Note in both cases that we add a dictionary. The key is the string to match on, with a list of tokens.  In the first case we had a single token where we would otherwise have two and vice versa."
   ]
  },
  {
   "cell_type": "code",
   "execution_count": null,
   "metadata": {},
   "outputs": [],
   "source": []
  }
 ],
 "metadata": {
  "kernelspec": {
   "display_name": "spaCy v3",
   "language": "python",
   "name": "spacy3"
  },
  "language_info": {
   "codemirror_mode": {
    "name": "ipython",
    "version": 3
   },
   "file_extension": ".py",
   "mimetype": "text/x-python",
   "name": "python",
   "nbconvert_exporter": "python",
   "pygments_lexer": "ipython3",
   "version": "3.8.5"
  }
 },
 "nbformat": 4,
 "nbformat_minor": 2
}
